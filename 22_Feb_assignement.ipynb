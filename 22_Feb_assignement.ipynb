{
 "cells": [
  {
   "cell_type": "markdown",
   "id": "962e5da6-daaf-42eb-a88d-b222e16eb5dc",
   "metadata": {},
   "source": [
    "Q1. Create a Pandas Series that contains the following data: 4, 8, 15, 16, 23, and 42. Then, print the series."
   ]
  },
  {
   "cell_type": "markdown",
   "id": "44e8f456-e688-4f4d-a511-77ac35b06a14",
   "metadata": {},
   "source": [
    "Ans:"
   ]
  },
  {
   "cell_type": "code",
   "execution_count": 1,
   "id": "cf6a07f5-e139-4c37-b675-47a8a41de6fd",
   "metadata": {},
   "outputs": [
    {
     "name": "stdout",
     "output_type": "stream",
     "text": [
      "0     4\n",
      "1     8\n",
      "2    15\n",
      "3    16\n",
      "4    23\n",
      "5    42\n",
      "dtype: int64\n"
     ]
    }
   ],
   "source": [
    "import pandas as pd\n",
    "\n",
    "# Create a Pandas Series\n",
    "data = [4, 8, 15, 16, 23, 42]\n",
    "series = pd.Series(data)\n",
    "\n",
    "# Print the series\n",
    "print(series)\n"
   ]
  },
  {
   "cell_type": "markdown",
   "id": "53f2ced2-b415-4cf8-9a81-c2b028817384",
   "metadata": {},
   "source": [
    "Q2. Create a variable of list type containing 10 elements in it, and apply pandas.Series function on the\r\n",
    "variable print it\n",
    "\n",
    "Ans:."
   ]
  },
  {
   "cell_type": "code",
   "execution_count": 3,
   "id": "389de5c6-b2f2-4b15-ba88-04042933f7d5",
   "metadata": {},
   "outputs": [
    {
     "name": "stdout",
     "output_type": "stream",
     "text": [
      "0     1\n",
      "1     2\n",
      "2     3\n",
      "3     4\n",
      "4     5\n",
      "5     6\n",
      "6     7\n",
      "7     8\n",
      "8     9\n",
      "9    10\n",
      "dtype: int64\n"
     ]
    }
   ],
   "source": [
    "import pandas as pd\n",
    "\n",
    "# Create a list variable with 10 elements\n",
    "list = [1, 2, 3, 4, 5, 6, 7, 8, 9, 10]\n",
    "\n",
    "# Convert the list into a Pandas Series\n",
    "series = pd.Series(list)\n",
    "\n",
    "# Print the series\n",
    "print(series)\n"
   ]
  },
  {
   "cell_type": "markdown",
   "id": "65e280ad-3472-45c6-9114-873ab310ad9f",
   "metadata": {},
   "source": [
    "Q3. Create a Pandas DataFrame that contains the following data:\r\n",
    "\r\n",
    "Then, print t hdata frameme."
   ]
  },
  {
   "cell_type": "markdown",
   "id": "daeeb7e8-d060-460f-b6b6-05a74ef019ea",
   "metadata": {},
   "source": [
    "Name      age      Gender\n",
    "Alice     25        Female\n",
    "Bob       30         Male\n",
    "Claire    27        Female\n",
    "\n"
   ]
  },
  {
   "cell_type": "code",
   "execution_count": 12,
   "id": "40a74617-b3ea-492e-b58c-061ba708ca84",
   "metadata": {},
   "outputs": [
    {
     "name": "stdout",
     "output_type": "stream",
     "text": [
      "     Name  Age  Gender\n",
      "0   Alice   25  Female\n",
      "1     Bob   30    Male\n",
      "2  Claire   27  Female\n"
     ]
    }
   ],
   "source": [
    "import pandas as pd\n",
    "\n",
    "# Create a dictionary with the data\n",
    "data = {\n",
    "    'Name': ['Alice', 'Bob', 'Claire'],\n",
    "    'Age': [25, 30, 27],\n",
    "    'Gender': ['Female', 'Male', 'Female']\n",
    "}\n",
    "\n",
    "# Create a Pandas DataFrame\n",
    "df = pd.DataFrame(data)\n",
    "\n",
    "# Print the DataFrame\n",
    "print(df)\n"
   ]
  },
  {
   "cell_type": "markdown",
   "id": "3fd1ee6a-37ec-4830-8855-58e717af2f24",
   "metadata": {},
   "source": [
    "Q4. What is ‘DataFrame’ in pandas and how is it different from pandas.series? Explain with an example.\n",
    "\n",
    "Ans: In Pandas, both DataFrame and Series are fundamental data structures used for handling and manipulating data.\r\n",
    "\r\n",
    "DataFrame:\r\n",
    "\r\n",
    "A DataFrame is a two-dimensional labeled data structure with rows and columns, similar to a table or spreadsheet.\r\n",
    "It is a collection of Pandas Series where each column of the DataFrame represents a Series.\r\n",
    "DataFrames are capable of storing heterogeneous data types and can handle missing values efficiently.\r\n",
    "DataFrames provide powerful methods and functions for data manipulation, analysis, and visualization.\r\n",
    "They are commonly used for data wrangling, exploratory data analysis, and preparing data for statistical analysis or machine learning\n",
    " models.\r\n",
    "Series:\r\n",
    "\r\n",
    "A Series is a one-dimensional labeled array that can hold data of any data type (e.g., integers, floats, strings, etc.).\r\n",
    "It is similar to a single column in a DataFrame but lacks the row index labels.\r\n",
    "Series objects are commonly used to represent a single column of data or a single row in a DataFrame.\r\n",
    "Series provide a powerful array-like interface with additional features such as index alignment and label-based slicing.\r\n",
    "They are useful for performing vectorized operations and mathematical comput\n",
    "ations on data.\r\n",
    "Example:\r\n",
    "\r\n",
    "Consider a scenario where we have data about students' grades in different subjects. We can represent this data using both a DataFrame and Series: "
   ]
  },
  {
   "cell_type": "code",
   "execution_count": 13,
   "id": "e062ddf5-3346-48b9-b094-c08ab536df94",
   "metadata": {},
   "outputs": [
    {
     "name": "stdout",
     "output_type": "stream",
     "text": [
      "DataFrame:\n",
      "      Name  Math  Science\n",
      "0    Alice    85       75\n",
      "1      Bob    90       85\n",
      "2  Charlie    78       80\n",
      "3    David    88       92\n",
      "\n",
      "Series (Math Scores):\n",
      "0    85\n",
      "1    90\n",
      "2    78\n",
      "3    88\n",
      "Name: Math, dtype: int64\n"
     ]
    }
   ],
   "source": [
    "import pandas as pd\n",
    "\n",
    "# Data for creating DataFrame\n",
    "data = {\n",
    "    'Name': ['Alice', 'Bob', 'Charlie', 'David'],\n",
    "    'Math': [85, 90, 78, 88],\n",
    "    'Science': [75, 85, 80, 92]\n",
    "}\n",
    "\n",
    "# Creating DataFrame\n",
    "df = pd.DataFrame(data)\n",
    "print(\"DataFrame:\")\n",
    "print(df)\n",
    "\n",
    "# Accessing a single column (returns a Series)\n",
    "math_scores = df['Math']\n",
    "print(\"\\nSeries (Math Scores):\")\n",
    "print(math_scores)\n"
   ]
  },
  {
   "cell_type": "markdown",
   "id": "9ded7e22-d272-4f01-9d58-d5dd1d0929d9",
   "metadata": {},
   "source": [
    "Q5. What are some common functions you can use to manipulate data in a Pandas DataFrame? Can\r\n",
    "you give an example of when you might use one of these functions\n",
    "\n",
    "Ans: There are some common functions and methods you can use to manipulate data in a pandas data frame, along with example of when you might use them:\n",
    "\n",
    "1. head() and tail(): these functions are used to view the first or last n rows of the data frame.\n",
    "  example\n",
    " \n",
    "\n",
    "?"
   ]
  },
  {
   "cell_type": "code",
   "execution_count": 14,
   "id": "06029d2f-7e77-416c-b7cb-ac8067a64d45",
   "metadata": {},
   "outputs": [
    {
     "data": {
      "text/html": [
       "<div>\n",
       "<style scoped>\n",
       "    .dataframe tbody tr th:only-of-type {\n",
       "        vertical-align: middle;\n",
       "    }\n",
       "\n",
       "    .dataframe tbody tr th {\n",
       "        vertical-align: top;\n",
       "    }\n",
       "\n",
       "    .dataframe thead th {\n",
       "        text-align: right;\n",
       "    }\n",
       "</style>\n",
       "<table border=\"1\" class=\"dataframe\">\n",
       "  <thead>\n",
       "    <tr style=\"text-align: right;\">\n",
       "      <th></th>\n",
       "      <th>Name</th>\n",
       "      <th>Math</th>\n",
       "      <th>Science</th>\n",
       "    </tr>\n",
       "  </thead>\n",
       "  <tbody>\n",
       "    <tr>\n",
       "      <th>0</th>\n",
       "      <td>Alice</td>\n",
       "      <td>85</td>\n",
       "      <td>75</td>\n",
       "    </tr>\n",
       "    <tr>\n",
       "      <th>1</th>\n",
       "      <td>Bob</td>\n",
       "      <td>90</td>\n",
       "      <td>85</td>\n",
       "    </tr>\n",
       "    <tr>\n",
       "      <th>2</th>\n",
       "      <td>Charlie</td>\n",
       "      <td>78</td>\n",
       "      <td>80</td>\n",
       "    </tr>\n",
       "    <tr>\n",
       "      <th>3</th>\n",
       "      <td>David</td>\n",
       "      <td>88</td>\n",
       "      <td>92</td>\n",
       "    </tr>\n",
       "  </tbody>\n",
       "</table>\n",
       "</div>"
      ],
      "text/plain": [
       "      Name  Math  Science\n",
       "0    Alice    85       75\n",
       "1      Bob    90       85\n",
       "2  Charlie    78       80\n",
       "3    David    88       92"
      ]
     },
     "execution_count": 14,
     "metadata": {},
     "output_type": "execute_result"
    }
   ],
   "source": [
    "df.head() # View the first 5 rows of the dataframe \n",
    "df.tail() # view the last 10 rows of the dataframe\n"
   ]
  },
  {
   "cell_type": "markdown",
   "id": "e85d5711-082b-42e2-8c2f-9267d46cfaee",
   "metadata": {},
   "source": [
    "info():\r\n",
    "\r\n",
    "Provides a concise summary of the DataFrame including column data types and non-null values.\r\n",
    "Example:"
   ]
  },
  {
   "cell_type": "code",
   "execution_count": 15,
   "id": "4e8dd61e-6f98-45bf-bdeb-6a7957fdeb62",
   "metadata": {},
   "outputs": [
    {
     "name": "stdout",
     "output_type": "stream",
     "text": [
      "<class 'pandas.core.frame.DataFrame'>\n",
      "RangeIndex: 4 entries, 0 to 3\n",
      "Data columns (total 3 columns):\n",
      " #   Column   Non-Null Count  Dtype \n",
      "---  ------   --------------  ----- \n",
      " 0   Name     4 non-null      object\n",
      " 1   Math     4 non-null      int64 \n",
      " 2   Science  4 non-null      int64 \n",
      "dtypes: int64(2), object(1)\n",
      "memory usage: 228.0+ bytes\n"
     ]
    }
   ],
   "source": [
    "df.info()  \n"
   ]
  },
  {
   "cell_type": "markdown",
   "id": "dea9c1e2-b2d2-453b-a521-dc90b24eb230",
   "metadata": {},
   "source": [
    "describe():\r\n",
    "\r\n",
    "Generates descriptive statistics for numeric columns such as count, mean, min, max, and quartiles.\r\n",
    "Example:"
   ]
  },
  {
   "cell_type": "code",
   "execution_count": 16,
   "id": "a4db7976-5eef-4e92-9ea8-16b84b9bb59c",
   "metadata": {},
   "outputs": [
    {
     "data": {
      "text/html": [
       "<div>\n",
       "<style scoped>\n",
       "    .dataframe tbody tr th:only-of-type {\n",
       "        vertical-align: middle;\n",
       "    }\n",
       "\n",
       "    .dataframe tbody tr th {\n",
       "        vertical-align: top;\n",
       "    }\n",
       "\n",
       "    .dataframe thead th {\n",
       "        text-align: right;\n",
       "    }\n",
       "</style>\n",
       "<table border=\"1\" class=\"dataframe\">\n",
       "  <thead>\n",
       "    <tr style=\"text-align: right;\">\n",
       "      <th></th>\n",
       "      <th>Math</th>\n",
       "      <th>Science</th>\n",
       "    </tr>\n",
       "  </thead>\n",
       "  <tbody>\n",
       "    <tr>\n",
       "      <th>count</th>\n",
       "      <td>4.000000</td>\n",
       "      <td>4.00000</td>\n",
       "    </tr>\n",
       "    <tr>\n",
       "      <th>mean</th>\n",
       "      <td>85.250000</td>\n",
       "      <td>83.00000</td>\n",
       "    </tr>\n",
       "    <tr>\n",
       "      <th>std</th>\n",
       "      <td>5.251984</td>\n",
       "      <td>7.25718</td>\n",
       "    </tr>\n",
       "    <tr>\n",
       "      <th>min</th>\n",
       "      <td>78.000000</td>\n",
       "      <td>75.00000</td>\n",
       "    </tr>\n",
       "    <tr>\n",
       "      <th>25%</th>\n",
       "      <td>83.250000</td>\n",
       "      <td>78.75000</td>\n",
       "    </tr>\n",
       "    <tr>\n",
       "      <th>50%</th>\n",
       "      <td>86.500000</td>\n",
       "      <td>82.50000</td>\n",
       "    </tr>\n",
       "    <tr>\n",
       "      <th>75%</th>\n",
       "      <td>88.500000</td>\n",
       "      <td>86.75000</td>\n",
       "    </tr>\n",
       "    <tr>\n",
       "      <th>max</th>\n",
       "      <td>90.000000</td>\n",
       "      <td>92.00000</td>\n",
       "    </tr>\n",
       "  </tbody>\n",
       "</table>\n",
       "</div>"
      ],
      "text/plain": [
       "            Math   Science\n",
       "count   4.000000   4.00000\n",
       "mean   85.250000  83.00000\n",
       "std     5.251984   7.25718\n",
       "min    78.000000  75.00000\n",
       "25%    83.250000  78.75000\n",
       "50%    86.500000  82.50000\n",
       "75%    88.500000  86.75000\n",
       "max    90.000000  92.00000"
      ]
     },
     "execution_count": 16,
     "metadata": {},
     "output_type": "execute_result"
    }
   ],
   "source": [
    "df.describe()  \n"
   ]
  },
  {
   "cell_type": "markdown",
   "id": "9f41f486-c226-449f-b780-429a8f30b223",
   "metadata": {},
   "source": [
    "shape:\n",
    "\n",
    "Returns a tuple representing the dimensions (rows, columns) of the DataFrame.\n",
    "Example:"
   ]
  },
  {
   "cell_type": "code",
   "execution_count": 18,
   "id": "8164e6a1-33a4-4a09-b9d7-378b405de72a",
   "metadata": {},
   "outputs": [
    {
     "data": {
      "text/plain": [
       "(4, 3)"
      ]
     },
     "execution_count": 18,
     "metadata": {},
     "output_type": "execute_result"
    }
   ],
   "source": [
    "df.shape  \n"
   ]
  },
  {
   "cell_type": "markdown",
   "id": "18a0909d-934b-4505-ba22-6d51d21bf1a9",
   "metadata": {},
   "source": [
    "columns and index:\r\n",
    "\r\n",
    "Returns the column names and index labels of the DataFrame, respectively.\r\n",
    "Example:"
   ]
  },
  {
   "cell_type": "code",
   "execution_count": 19,
   "id": "7c2f5651-fc19-49c0-807f-c1424b9cfba8",
   "metadata": {},
   "outputs": [
    {
     "data": {
      "text/plain": [
       "RangeIndex(start=0, stop=4, step=1)"
      ]
     },
     "execution_count": 19,
     "metadata": {},
     "output_type": "execute_result"
    }
   ],
   "source": [
    "df.columns  \n",
    "df.index  \n"
   ]
  },
  {
   "cell_type": "markdown",
   "id": "c2d5dbb3-9a20-45f2-bc3b-e44570e4c18f",
   "metadata": {},
   "source": [
    "dropna():\r\n",
    "\r\n",
    "Removes rows or columns with missing values (NaN).\r\n",
    "Example:"
   ]
  },
  {
   "cell_type": "code",
   "execution_count": 20,
   "id": "dd749994-bda2-4c6b-b5d3-e6d6abc2bee1",
   "metadata": {},
   "outputs": [
    {
     "data": {
      "text/html": [
       "<div>\n",
       "<style scoped>\n",
       "    .dataframe tbody tr th:only-of-type {\n",
       "        vertical-align: middle;\n",
       "    }\n",
       "\n",
       "    .dataframe tbody tr th {\n",
       "        vertical-align: top;\n",
       "    }\n",
       "\n",
       "    .dataframe thead th {\n",
       "        text-align: right;\n",
       "    }\n",
       "</style>\n",
       "<table border=\"1\" class=\"dataframe\">\n",
       "  <thead>\n",
       "    <tr style=\"text-align: right;\">\n",
       "      <th></th>\n",
       "      <th>Name</th>\n",
       "      <th>Math</th>\n",
       "      <th>Science</th>\n",
       "    </tr>\n",
       "  </thead>\n",
       "  <tbody>\n",
       "    <tr>\n",
       "      <th>0</th>\n",
       "      <td>Alice</td>\n",
       "      <td>85</td>\n",
       "      <td>75</td>\n",
       "    </tr>\n",
       "    <tr>\n",
       "      <th>1</th>\n",
       "      <td>Bob</td>\n",
       "      <td>90</td>\n",
       "      <td>85</td>\n",
       "    </tr>\n",
       "    <tr>\n",
       "      <th>2</th>\n",
       "      <td>Charlie</td>\n",
       "      <td>78</td>\n",
       "      <td>80</td>\n",
       "    </tr>\n",
       "    <tr>\n",
       "      <th>3</th>\n",
       "      <td>David</td>\n",
       "      <td>88</td>\n",
       "      <td>92</td>\n",
       "    </tr>\n",
       "  </tbody>\n",
       "</table>\n",
       "</div>"
      ],
      "text/plain": [
       "      Name  Math  Science\n",
       "0    Alice    85       75\n",
       "1      Bob    90       85\n",
       "2  Charlie    78       80\n",
       "3    David    88       92"
      ]
     },
     "execution_count": 20,
     "metadata": {},
     "output_type": "execute_result"
    }
   ],
   "source": [
    "df.dropna()  \n"
   ]
  },
  {
   "cell_type": "markdown",
   "id": "01fd5dbf-f035-4dee-9369-df6c01efc19e",
   "metadata": {},
   "source": [
    "fillna():\r\n",
    "\r\n",
    "Fills missing values with a specified value or method.\r\n",
    "Example:"
   ]
  },
  {
   "cell_type": "code",
   "execution_count": 21,
   "id": "15cdf138-695a-47b5-a0a8-13deee9b964a",
   "metadata": {},
   "outputs": [
    {
     "data": {
      "text/html": [
       "<div>\n",
       "<style scoped>\n",
       "    .dataframe tbody tr th:only-of-type {\n",
       "        vertical-align: middle;\n",
       "    }\n",
       "\n",
       "    .dataframe tbody tr th {\n",
       "        vertical-align: top;\n",
       "    }\n",
       "\n",
       "    .dataframe thead th {\n",
       "        text-align: right;\n",
       "    }\n",
       "</style>\n",
       "<table border=\"1\" class=\"dataframe\">\n",
       "  <thead>\n",
       "    <tr style=\"text-align: right;\">\n",
       "      <th></th>\n",
       "      <th>Name</th>\n",
       "      <th>Math</th>\n",
       "      <th>Science</th>\n",
       "    </tr>\n",
       "  </thead>\n",
       "  <tbody>\n",
       "    <tr>\n",
       "      <th>0</th>\n",
       "      <td>Alice</td>\n",
       "      <td>85</td>\n",
       "      <td>75</td>\n",
       "    </tr>\n",
       "    <tr>\n",
       "      <th>1</th>\n",
       "      <td>Bob</td>\n",
       "      <td>90</td>\n",
       "      <td>85</td>\n",
       "    </tr>\n",
       "    <tr>\n",
       "      <th>2</th>\n",
       "      <td>Charlie</td>\n",
       "      <td>78</td>\n",
       "      <td>80</td>\n",
       "    </tr>\n",
       "    <tr>\n",
       "      <th>3</th>\n",
       "      <td>David</td>\n",
       "      <td>88</td>\n",
       "      <td>92</td>\n",
       "    </tr>\n",
       "  </tbody>\n",
       "</table>\n",
       "</div>"
      ],
      "text/plain": [
       "      Name  Math  Science\n",
       "0    Alice    85       75\n",
       "1      Bob    90       85\n",
       "2  Charlie    78       80\n",
       "3    David    88       92"
      ]
     },
     "execution_count": 21,
     "metadata": {},
     "output_type": "execute_result"
    }
   ],
   "source": [
    "df.fillna(0)  # Fill missing values with 0\n"
   ]
  },
  {
   "cell_type": "markdown",
   "id": "72df1fd0-0a4f-4347-9619-17fc594c30ce",
   "metadata": {},
   "source": [
    "drop_duplicates():\r\n",
    "\r\n",
    "Removes duplicate rows from the DataFrame.\r\n",
    "Example:"
   ]
  },
  {
   "cell_type": "code",
   "execution_count": 22,
   "id": "45caa033-2c3b-413c-aa47-b1ce59a63bb5",
   "metadata": {},
   "outputs": [
    {
     "data": {
      "text/html": [
       "<div>\n",
       "<style scoped>\n",
       "    .dataframe tbody tr th:only-of-type {\n",
       "        vertical-align: middle;\n",
       "    }\n",
       "\n",
       "    .dataframe tbody tr th {\n",
       "        vertical-align: top;\n",
       "    }\n",
       "\n",
       "    .dataframe thead th {\n",
       "        text-align: right;\n",
       "    }\n",
       "</style>\n",
       "<table border=\"1\" class=\"dataframe\">\n",
       "  <thead>\n",
       "    <tr style=\"text-align: right;\">\n",
       "      <th></th>\n",
       "      <th>Name</th>\n",
       "      <th>Math</th>\n",
       "      <th>Science</th>\n",
       "    </tr>\n",
       "  </thead>\n",
       "  <tbody>\n",
       "    <tr>\n",
       "      <th>0</th>\n",
       "      <td>Alice</td>\n",
       "      <td>85</td>\n",
       "      <td>75</td>\n",
       "    </tr>\n",
       "    <tr>\n",
       "      <th>1</th>\n",
       "      <td>Bob</td>\n",
       "      <td>90</td>\n",
       "      <td>85</td>\n",
       "    </tr>\n",
       "    <tr>\n",
       "      <th>2</th>\n",
       "      <td>Charlie</td>\n",
       "      <td>78</td>\n",
       "      <td>80</td>\n",
       "    </tr>\n",
       "    <tr>\n",
       "      <th>3</th>\n",
       "      <td>David</td>\n",
       "      <td>88</td>\n",
       "      <td>92</td>\n",
       "    </tr>\n",
       "  </tbody>\n",
       "</table>\n",
       "</div>"
      ],
      "text/plain": [
       "      Name  Math  Science\n",
       "0    Alice    85       75\n",
       "1      Bob    90       85\n",
       "2  Charlie    78       80\n",
       "3    David    88       92"
      ]
     },
     "execution_count": 22,
     "metadata": {},
     "output_type": "execute_result"
    }
   ],
   "source": [
    "df.drop_duplicates()  \n"
   ]
  },
  {
   "cell_type": "markdown",
   "id": "153faea6-bac6-47ba-9e0d-198352d46ef5",
   "metadata": {},
   "source": [
    "sort_values():\r\n",
    "\r\n",
    "Sorts the DataFrame by one or more columnsle:"
   ]
  },
  {
   "cell_type": "markdown",
   "id": "5bf7e016-4a85-46b7-9388-ff8f4e1e09cd",
   "metadata": {},
   "source": [
    "pivot_table():\r\n",
    "\r\n",
    "Creates a pivot table from DataFrame datale:"
   ]
  },
  {
   "cell_type": "markdown",
   "id": "1272420f-d47e-4072-ab0b-c77738df604f",
   "metadata": {},
   "source": [
    "Q6. Which of the following is mutable in nature Series, DataFrame, Panel?\n",
    "\n",
    "Ans: Among Series, DataFrame, and Panel, only DataFrame is mutable in nature.\r\n",
    "\r\n",
    "Series: Series is immutable. Once created, you cannot modify the values or the index of a Series directly. You would need to create a new Series if you want to change its values or index.\r\n",
    "\r\n",
    "DataFrame: DataFrame is mutable. You can modify the values, add or remove columns, and change the index or column labels of a DataFrame after it has been created.\r\n",
    "\r\n",
    "Panel: Panel is deprecated as of Pandas version 0.25.0. It was a three-dimensional data structure representing data in the form of items (axis 0), major_axis (axis 1), and minor_axis (axis 2). Since it is no longer actively developed and is considered deprecated, it is not relevant to discuss its mutability."
   ]
  },
  {
   "cell_type": "code",
   "execution_count": 25,
   "id": "bfa27ed3-7f93-487b-bb49-b95ccbe52291",
   "metadata": {},
   "outputs": [
    {
     "name": "stdout",
     "output_type": "stream",
     "text": [
      "      Name         City\n",
      "0    Alice     New York\n",
      "1      Bob  Los Angeles\n",
      "2  Charlie      Chicago\n"
     ]
    }
   ],
   "source": [
    "import pandas as pd\n",
    "\n",
    "# Create a DataFrame\n",
    "data = {'Name': ['Alice', 'Bob', 'Charlie'],\n",
    "        'Age': [25, 30, 35]}\n",
    "df = pd.DataFrame(data)\n",
    "\n",
    "# Modify values in the DataFrame\n",
    "df.at[0, 'Age'] = 26  # Change Alice's age\n",
    "df.loc[1, 'Age'] = 31  # Change Bob's age\n",
    "\n",
    "# Add a new column\n",
    "df['City'] = ['New York', 'Los Angeles', 'Chicago']\n",
    "\n",
    "# Remove a column\n",
    "df.drop(columns=['Age'], inplace=True)\n",
    "\n",
    "print(df)\n"
   ]
  },
  {
   "cell_type": "markdown",
   "id": "28acff06-29c7-4e10-9ed6-97fec5e929dc",
   "metadata": {},
   "source": [
    "Q7. Create a DataFrame using multiple Series. Explain with an example.\n",
    "\n",
    "ans: we can create a DataFrame using multiple Series by passing the Series objects as a dictionary to the pd.DataFrame() constructor. Each Series will correspond to a column in the DataFrame, and their indices will align to form the DataFrame's index.\n",
    "\n",
    "Here's an example:"
   ]
  },
  {
   "cell_type": "code",
   "execution_count": 26,
   "id": "99e683df-3a9f-46d0-bede-39688338dd4b",
   "metadata": {},
   "outputs": [
    {
     "name": "stdout",
     "output_type": "stream",
     "text": [
      "      Name  Age         City\n",
      "0    Alice   25     New York\n",
      "1      Bob   30  Los Angeles\n",
      "2  Charlie   35      Chicago\n"
     ]
    }
   ],
   "source": [
    "import pandas as pd\n",
    "\n",
    "# Creating Series objects\n",
    "name_series = pd.Series(['Alice', 'Bob', 'Charlie'])\n",
    "age_series = pd.Series([25, 30, 35])\n",
    "city_series = pd.Series(['New York', 'Los Angeles', 'Chicago'])\n",
    "\n",
    "# Creating DataFrame using multiple Series\n",
    "df = pd.DataFrame({\n",
    "    'Name': name_series,\n",
    "    'Age': age_series,\n",
    "    'City': city_series\n",
    "})\n",
    "\n",
    "# Printing the DataFrame\n",
    "print(df)\n"
   ]
  },
  {
   "cell_type": "markdown",
   "id": "13f38d42-42bb-404b-be4c-fe6eadde6d7f",
   "metadata": {},
   "source": [
    "In this example:\n",
    "\n",
    "Three Series objects (name_series, age_series, and city_series) are created with data for 'Name', 'Age', and 'City' respectively.\n",
    "These Series objects are passed as a dictionary to the pd.DataFrame() constructor to create the DataFrame df.\n",
    "Each Series becomes a column in the DataFrame, and their indices align to form the DataFrame's index.\n",
    "Finally, the DataFrame is printed, showing the data in tabular form with columns for 'Name', 'Age', and 'City'."
   ]
  },
  {
   "cell_type": "code",
   "execution_count": null,
   "id": "02778f1e-b769-4404-b796-4dfc8933e070",
   "metadata": {},
   "outputs": [],
   "source": []
  },
  {
   "cell_type": "code",
   "execution_count": null,
   "id": "8516d4e3-b5cd-45ac-9907-50dce2ff6a1b",
   "metadata": {},
   "outputs": [],
   "source": []
  },
  {
   "cell_type": "code",
   "execution_count": null,
   "id": "853dc07f-3d78-4ce6-bd34-d8d5e8114a51",
   "metadata": {},
   "outputs": [],
   "source": []
  },
  {
   "cell_type": "code",
   "execution_count": null,
   "id": "a1e2a24f-0c14-4bce-bf68-68d02914561f",
   "metadata": {},
   "outputs": [],
   "source": []
  }
 ],
 "metadata": {
  "kernelspec": {
   "display_name": "Python 3 (ipykernel)",
   "language": "python",
   "name": "python3"
  },
  "language_info": {
   "codemirror_mode": {
    "name": "ipython",
    "version": 3
   },
   "file_extension": ".py",
   "mimetype": "text/x-python",
   "name": "python",
   "nbconvert_exporter": "python",
   "pygments_lexer": "ipython3",
   "version": "3.11.5"
  }
 },
 "nbformat": 4,
 "nbformat_minor": 5
}
